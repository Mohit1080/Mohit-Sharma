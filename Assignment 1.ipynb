{
 "cells": [
  {
   "cell_type": "markdown",
   "id": "5e8581fb",
   "metadata": {},
   "source": [
    "# 1. In the below elements which of them are values or an expression? eg:- values can be\n",
    "integer or string and expressions will be mathematical operators.\n",
    "*\n",
    "&#39;hello&#39;\n",
    "-87.8\n",
    "-\n",
    "/\n",
    "+\n",
    "6"
   ]
  },
  {
   "cell_type": "markdown",
   "id": "27eaadd5",
   "metadata": {},
   "source": [
    "#Answer\n",
    "* is mathematical operator\n",
    "'hello' is a String\n",
    "-87.8 is floating number\n",
    "- is a mathematical operator\n",
    "/ is a mathematical operator\n",
    "+ is a mathematical operator\n",
    "6 is a integer"
   ]
  },
  {
   "cell_type": "markdown",
   "id": "93c8bee9",
   "metadata": {},
   "source": [
    "# 2. What is the difference between string and variable?"
   ]
  },
  {
   "cell_type": "markdown",
   "id": "33f8c0c9",
   "metadata": {},
   "source": [
    "String = A every word or alphabat or number or any character in 'single coat' , \"double coat\",'''tripple coat''' is called string.\n",
    "Variable = Variable a container where you contain the data like string , int, list anything.\n",
    "you can store the sting into a variable"
   ]
  },
  {
   "cell_type": "markdown",
   "id": "69927e86",
   "metadata": {},
   "source": [
    "# 3. Describe three different data types."
   ]
  },
  {
   "cell_type": "markdown",
   "id": "eaee2328",
   "metadata": {},
   "source": [
    "1. integer : This data type contain the numberic value like 0,1,2,.....n and also contain the negitive values only.\n",
    "2. float : This data type contain only decimal number.decimal number also is positive or negitive both.\n",
    "3. String: This data type contain all the value which is written in single coat' , \"double coat\",'''tripple coat'''."
   ]
  },
  {
   "cell_type": "markdown",
   "id": "e25cd342",
   "metadata": {},
   "source": [
    "# 4. What is an expression made up of? What do all expressions do?"
   ]
  },
  {
   "cell_type": "markdown",
   "id": "d02d6769",
   "metadata": {},
   "source": [
    "Don't know the answer"
   ]
  },
  {
   "cell_type": "markdown",
   "id": "3594c0bd",
   "metadata": {},
   "source": [
    "# 5. This assignment statements, like spam = 10. What is the difference between an expression and a statement?"
   ]
  },
  {
   "cell_type": "markdown",
   "id": "0726a610",
   "metadata": {},
   "source": [
    "Not understandable for me\n"
   ]
  },
  {
   "cell_type": "markdown",
   "id": "e6765692",
   "metadata": {},
   "source": [
    "# 6. After running the following code, what does the variable bacon contain?\n",
    "##### bacon = 22\n",
    "##### bacon + 1"
   ]
  },
  {
   "cell_type": "code",
   "execution_count": 15,
   "id": "b159b8d0",
   "metadata": {},
   "outputs": [
    {
     "data": {
      "text/plain": [
       "22"
      ]
     },
     "execution_count": 15,
     "metadata": {},
     "output_type": "execute_result"
    }
   ],
   "source": [
    "\n",
    "bacon = 22\n",
    "bacon + 1\n",
    "bacon#this is still containing 22 value)"
   ]
  },
  {
   "cell_type": "markdown",
   "id": "29ffcb66",
   "metadata": {},
   "source": [
    "# 7. What should the values of the following two terms be?\n",
    "&#39;spam&#39; + &#39;spamspam&#39;\n",
    "&#39;spam&#39; * 3"
   ]
  },
  {
   "cell_type": "code",
   "execution_count": 9,
   "id": "6f5d8ba2",
   "metadata": {},
   "outputs": [
    {
     "name": "stdout",
     "output_type": "stream",
     "text": [
      "this statement is concatenate these value : ,spamspamspam\n",
      "this statement give us to the 3 time muliple of spam : spamspamspam\n"
     ]
    }
   ],
   "source": [
    "print('this statement is concatenate these value : ,''spam'+'spamspam')\n",
    "print('this statement give us to the 3 time muliple of spam :','spam'*3)"
   ]
  },
  {
   "cell_type": "markdown",
   "id": "798eaec4",
   "metadata": {},
   "source": [
    "# 8. Why is eggs a valid variable name while 100 is invalid?"
   ]
  },
  {
   "cell_type": "markdown",
   "id": "30e51689",
   "metadata": {},
   "source": [
    "when you create a variable name you must  know about the rule of the declaring the variable.you can't start the variable name with special character and number.The variable can start with alphabet and underscore(-)\n",
    "    "
   ]
  },
  {
   "cell_type": "markdown",
   "id": "5ae0c8b2",
   "metadata": {},
   "source": [
    "# 9. What three functions can be used to get the integer, floating-point number, or string version of a value?"
   ]
  },
  {
   "cell_type": "code",
   "execution_count": 19,
   "id": "50492303",
   "metadata": {},
   "outputs": [
    {
     "name": "stdout",
     "output_type": "stream",
     "text": [
      "enter the value5\n",
      "5\n",
      "5.0\n",
      "5\n"
     ]
    }
   ],
   "source": [
    "x=(input(\"enter the value\"))\n",
    "print(int(x))\n",
    "print(float(x))\n",
    "print(str(x))"
   ]
  },
  {
   "cell_type": "markdown",
   "id": "b1a96ebc",
   "metadata": {},
   "source": [
    " # 10. Why does this expression cause an error? How can you fix it?\n",
    "&#39;I have eaten &#39; + 99 + &#39; burritos.&#39;"
   ]
  },
  {
   "cell_type": "code",
   "execution_count": 23,
   "id": "8c54d1ab",
   "metadata": {},
   "outputs": [
    {
     "ename": "TypeError",
     "evalue": "can only concatenate str (not \"int\") to str",
     "output_type": "error",
     "traceback": [
      "\u001b[1;31m---------------------------------------------------------------------------\u001b[0m",
      "\u001b[1;31mTypeError\u001b[0m                                 Traceback (most recent call last)",
      "Input \u001b[1;32mIn [23]\u001b[0m, in \u001b[0;36m<cell line: 2>\u001b[1;34m()\u001b[0m\n\u001b[0;32m      1\u001b[0m \u001b[38;5;66;03m#error\u001b[39;00m\n\u001b[1;32m----> 2\u001b[0m \u001b[38;5;124;43m'\u001b[39;49m\u001b[38;5;124;43mI have eaten \u001b[39;49m\u001b[38;5;124;43m'\u001b[39;49m\u001b[43m \u001b[49m\u001b[38;5;241;43m+\u001b[39;49m\u001b[43m \u001b[49m\u001b[38;5;241;43m99\u001b[39;49m \u001b[38;5;241m+\u001b[39m \u001b[38;5;124m'\u001b[39m\u001b[38;5;124m burritos.\u001b[39m\u001b[38;5;124m'\u001b[39m\n",
      "\u001b[1;31mTypeError\u001b[0m: can only concatenate str (not \"int\") to str"
     ]
    }
   ],
   "source": [
    "#error\n",
    "'I have eaten ' + 99 + ' burritos.'\n",
    "#because string can only concatenate with only str "
   ]
  },
  {
   "cell_type": "code",
   "execution_count": 22,
   "id": "ff1c502b",
   "metadata": {},
   "outputs": [
    {
     "data": {
      "text/plain": [
       "'I have eaten 99 burritos.'"
      ]
     },
     "execution_count": 22,
     "metadata": {},
     "output_type": "execute_result"
    }
   ],
   "source": [
    "#solution\n",
    "'I have eaten ' + str(99) + ' burritos.'"
   ]
  },
  {
   "cell_type": "code",
   "execution_count": 24,
   "id": "e60fa09e",
   "metadata": {},
   "outputs": [
    {
     "data": {
      "text/plain": [
       "'C:\\\\Users\\\\Mohit Sharma\\\\Krish naik Data Science course\\\\python Assignment'"
      ]
     },
     "execution_count": 24,
     "metadata": {},
     "output_type": "execute_result"
    }
   ],
   "source": [
    "pwd"
   ]
  },
  {
   "cell_type": "code",
   "execution_count": null,
   "id": "6c21bac5",
   "metadata": {},
   "outputs": [],
   "source": []
  }
 ],
 "metadata": {
  "kernelspec": {
   "display_name": "Python 3 (ipykernel)",
   "language": "python",
   "name": "python3"
  },
  "language_info": {
   "codemirror_mode": {
    "name": "ipython",
    "version": 3
   },
   "file_extension": ".py",
   "mimetype": "text/x-python",
   "name": "python",
   "nbconvert_exporter": "python",
   "pygments_lexer": "ipython3",
   "version": "3.9.12"
  }
 },
 "nbformat": 4,
 "nbformat_minor": 5
}
